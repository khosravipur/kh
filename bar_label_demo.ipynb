{
  "cells": [
    {
      "cell_type": "markdown",
      "metadata": {
        "id": "view-in-github",
        "colab_type": "text"
      },
      "source": [
        "<a href=\"https://colab.research.google.com/github/khosravipur/kh/blob/main/bar_label_demo.ipynb\" target=\"_parent\"><img src=\"https://colab.research.google.com/assets/colab-badge.svg\" alt=\"Open In Colab\"/></a>"
      ]
    },
    {
      "cell_type": "code",
      "execution_count": null,
      "metadata": {
        "id": "ytPVBdD2EeQF"
      },
      "outputs": [],
      "source": [
        "%matplotlib inline"
      ]
    },
    {
      "cell_type": "markdown",
      "metadata": {
        "id": "ztrkGLCJEeQQ"
      },
      "source": [
        "\n",
        "# Bar Label Demo\n",
        "\n",
        "This example shows how to use the `~.Axes.bar_label` helper function\n",
        "to create bar chart labels.\n",
        "\n",
        "See also the :doc:`grouped bar\n",
        "</gallery/lines_bars_and_markers/barchart>`,\n",
        ":doc:`stacked bar\n",
        "</gallery/lines_bars_and_markers/bar_stacked>` and\n",
        ":doc:`horizontal bar chart\n",
        "</gallery/lines_bars_and_markers/barh>` examples.\n"
      ]
    },
    {
      "cell_type": "code",
      "execution_count": null,
      "metadata": {
        "id": "RAf1c942EeQV"
      },
      "outputs": [],
      "source": [
        "import matplotlib.pyplot as plt\n",
        "import numpy as np"
      ]
    },
    {
      "cell_type": "markdown",
      "metadata": {
        "id": "bzSMWGNxEeQW"
      },
      "source": [
        "Define the data\n",
        "\n"
      ]
    },
    {
      "cell_type": "code",
      "execution_count": null,
      "metadata": {
        "id": "oToAU_EbEeQX"
      },
      "outputs": [],
      "source": [
        "N = 5\n",
        "menMeans = (20, 35, 30, 35, -27)\n",
        "womenMeans = (25, 32, 34, 20, -25)\n",
        "menStd = (2, 3, 4, 1, 2)\n",
        "womenStd = (3, 5, 2, 3, 3)\n",
        "ind = np.arange(N)    # the x locations for the groups\n",
        "width = 0.35       # the width of the bars: can also be len(x) sequence"
      ]
    },
    {
      "cell_type": "markdown",
      "metadata": {
        "id": "lKPoHUywEeQY"
      },
      "source": [
        "Stacked bar plot with error bars\n",
        "\n"
      ]
    },
    {
      "cell_type": "code",
      "execution_count": null,
      "metadata": {
        "id": "c81It3F0EeQY"
      },
      "outputs": [],
      "source": [
        "fig, ax = plt.subplots()\n",
        "\n",
        "p1 = ax.bar(ind, menMeans, width, yerr=menStd, label='Men')\n",
        "p2 = ax.bar(ind, womenMeans, width,\n",
        "            bottom=menMeans, yerr=womenStd, label='Women')\n",
        "\n",
        "ax.axhline(0, color='grey', linewidth=0.8)\n",
        "ax.set_ylabel('Scores')\n",
        "ax.set_title('Scores by group and gender')\n",
        "ax.set_xticks(ind, labels=['G1', 'G2', 'G3', 'G4', 'G5'])\n",
        "ax.legend()\n",
        "\n",
        "# Label with label_type 'center' instead of the default 'edge'\n",
        "ax.bar_label(p1, label_type='center')\n",
        "ax.bar_label(p2, label_type='center')\n",
        "ax.bar_label(p2)\n",
        "\n",
        "plt.show()"
      ]
    },
    {
      "cell_type": "markdown",
      "metadata": {
        "id": "wO4CMXkNEeQc"
      },
      "source": [
        "Horizontal bar chart\n",
        "\n"
      ]
    },
    {
      "cell_type": "code",
      "execution_count": null,
      "metadata": {
        "id": "mvxU2oBlEeQf"
      },
      "outputs": [],
      "source": [
        "# Fixing random state for reproducibility\n",
        "np.random.seed(19680801)\n",
        "\n",
        "# Example data\n",
        "people = ('Tom', 'Dick', 'Harry', 'Slim', 'Jim')\n",
        "y_pos = np.arange(len(people))\n",
        "performance = 3 + 10 * np.random.rand(len(people))\n",
        "error = np.random.rand(len(people))\n",
        "\n",
        "fig, ax = plt.subplots()\n",
        "\n",
        "hbars = ax.barh(y_pos, performance, xerr=error, align='center')\n",
        "ax.set_yticks(y_pos, labels=people)\n",
        "ax.invert_yaxis()  # labels read top-to-bottom\n",
        "ax.set_xlabel('Performance')\n",
        "ax.set_title('How fast do you want to go today?')\n",
        "\n",
        "# Label with specially formatted floats\n",
        "ax.bar_label(hbars, fmt='%.2f')\n",
        "ax.set_xlim(right=15)  # adjust xlim to fit labels\n",
        "\n",
        "plt.show()"
      ]
    },
    {
      "cell_type": "markdown",
      "metadata": {
        "id": "hmd9KFK5EeQh"
      },
      "source": [
        "Some of the more advanced things that one can do with bar labels\n",
        "\n"
      ]
    },
    {
      "cell_type": "code",
      "execution_count": null,
      "metadata": {
        "id": "vEwu_GZBEeQi"
      },
      "outputs": [],
      "source": [
        "fig, ax = plt.subplots()\n",
        "\n",
        "hbars = ax.barh(y_pos, performance, xerr=error, align='center')\n",
        "ax.set_yticks(y_pos, labels=people)\n",
        "ax.invert_yaxis()  # labels read top-to-bottom\n",
        "ax.set_xlabel('Performance')\n",
        "ax.set_title('How fast do you want to go today?')\n",
        "\n",
        "# Label with given captions, custom padding and annotate options\n",
        "ax.bar_label(hbars, labels=['±%.2f' % e for e in error],\n",
        "             padding=8, color='b', fontsize=14)\n",
        "ax.set_xlim(right=16)\n",
        "\n",
        "plt.show()"
      ]
    },
    {
      "cell_type": "markdown",
      "metadata": {
        "id": "QakrEpPcEeQv"
      },
      "source": [
        ".. admonition:: References\n",
        "\n",
        "   The use of the following functions, methods, classes and modules is shown\n",
        "   in this example:\n",
        "\n",
        "   - `matplotlib.axes.Axes.bar` / `matplotlib.pyplot.bar`\n",
        "   - `matplotlib.axes.Axes.barh` / `matplotlib.pyplot.barh`\n",
        "   - `matplotlib.axes.Axes.bar_label` / `matplotlib.pyplot.bar_label`\n",
        "\n"
      ]
    }
  ],
  "metadata": {
    "kernelspec": {
      "display_name": "Python 3",
      "language": "python",
      "name": "python3"
    },
    "language_info": {
      "codemirror_mode": {
        "name": "ipython",
        "version": 3
      },
      "file_extension": ".py",
      "mimetype": "text/x-python",
      "name": "python",
      "nbconvert_exporter": "python",
      "pygments_lexer": "ipython3",
      "version": "3.10.4"
    },
    "colab": {
      "provenance": [],
      "include_colab_link": true
    }
  },
  "nbformat": 4,
  "nbformat_minor": 0
}